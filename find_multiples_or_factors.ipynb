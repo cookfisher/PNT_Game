{
 "cells": [
  {
   "cell_type": "code",
   "execution_count": 24,
   "metadata": {
    "collapsed": true
   },
   "outputs": [],
   "source": [
    "# return list of all multiples and factors\n",
    "def find_multiples_or_factors(num, tokens_remain):\n",
    "    factors_multiples = []\n",
    "    # factors\n",
    "    for i in range(1, num + 1):\n",
    "        if num % i == 0:\n",
    "            factors_multiples.append(i)\n",
    "    # multiples\n",
    "    multiplier = 2\n",
    "    n = num\n",
    "    while n < max(tokens_remain):\n",
    "        n *= multiplier\n",
    "        if n <= max(tokens_remain):\n",
    "            factors_multiples.append(n)\n",
    "            multiplier += 1\n",
    "            n = num\n",
    "    print(num, \"'s factors and multiples in\", tokens_remain, \": \", factors_multiples)\n",
    "    return factors_multiples"
   ]
  },
  {
   "cell_type": "code",
   "execution_count": 25,
   "outputs": [
    {
     "name": "stdout",
     "output_type": "stream",
     "text": [
      "1 's factors and multiples in [2, 3, 4, 5] :  [1, 2, 3, 4, 5]\n",
      "mf =  [1, 2, 3, 4, 5]\n"
     ]
    }
   ],
   "source": [
    "num = 1\n",
    "tokens_remain = [2,3,4,5]\n",
    "mf = find_multiples_or_factors(num, tokens_remain)\n",
    "print('mf = ', mf)"
   ],
   "metadata": {
    "collapsed": false,
    "pycharm": {
     "name": "#%%\n"
    }
   }
  },
  {
   "cell_type": "code",
   "execution_count": 26,
   "outputs": [
    {
     "name": "stdout",
     "output_type": "stream",
     "text": [
      "2 's factors and multiples in [3, 4, 5] :  [1, 2, 4]\n",
      "mf =  [1, 2, 4]\n"
     ]
    }
   ],
   "source": [
    "num = 2\n",
    "tokens_remain = [3,4,5]\n",
    "mf = find_multiples_or_factors(num, tokens_remain)\n",
    "print('mf = ', mf)\n"
   ],
   "metadata": {
    "collapsed": false,
    "pycharm": {
     "name": "#%%\n"
    }
   }
  },
  {
   "cell_type": "code",
   "execution_count": 27,
   "outputs": [
    {
     "name": "stdout",
     "output_type": "stream",
     "text": [
      "3 's factors and multiples in [2, 4, 5] :  [1, 3]\n",
      "mf =  [1, 3]\n"
     ]
    }
   ],
   "source": [
    "num = 3\n",
    "tokens_remain = [2,4,5]\n",
    "mf = find_multiples_or_factors(num, tokens_remain)\n",
    "print('mf = ', mf)"
   ],
   "metadata": {
    "collapsed": false,
    "pycharm": {
     "name": "#%%\n"
    }
   }
  },
  {
   "cell_type": "code",
   "execution_count": 28,
   "outputs": [
    {
     "name": "stdout",
     "output_type": "stream",
     "text": [
      "4 's factors and multiples in [2, 3, 5] :  [1, 2, 4]\n",
      "mf =  [1, 2, 4]\n"
     ]
    }
   ],
   "source": [
    "num = 4\n",
    "tokens_remain = [2,3,5]\n",
    "mf = find_multiples_or_factors(num, tokens_remain)\n",
    "print('mf = ', mf)\n"
   ],
   "metadata": {
    "collapsed": false,
    "pycharm": {
     "name": "#%%\n"
    }
   }
  },
  {
   "cell_type": "code",
   "execution_count": 29,
   "outputs": [
    {
     "name": "stdout",
     "output_type": "stream",
     "text": [
      "5 's factors and multiples in [2, 3, 4] :  [1, 5]\n",
      "mf =  [1, 5]\n"
     ]
    }
   ],
   "source": [
    "num = 5\n",
    "tokens_remain = [2,3,4]\n",
    "mf = find_multiples_or_factors(num, tokens_remain)\n",
    "print('mf = ', mf)"
   ],
   "metadata": {
    "collapsed": false,
    "pycharm": {
     "name": "#%%\n"
    }
   }
  },
  {
   "cell_type": "code",
   "execution_count": 30,
   "outputs": [
    {
     "name": "stdout",
     "output_type": "stream",
     "text": [
      "3 's factors and multiples in [1, 2, 4, 5, 6, 7] :  [1, 3, 6]\n",
      "mf =  [1, 3, 6]\n"
     ]
    }
   ],
   "source": [
    "num = 3\n",
    "tokens_remain = [1,2,4,5,6,7]\n",
    "mf = find_multiples_or_factors(num, tokens_remain)\n",
    "print('mf = ', mf)\n"
   ],
   "metadata": {
    "collapsed": false,
    "pycharm": {
     "name": "#%%\n"
    }
   }
  },
  {
   "cell_type": "code",
   "execution_count": 31,
   "outputs": [
    {
     "name": "stdout",
     "output_type": "stream",
     "text": [
      "6 's factors and multiples in [1, 2, 4, 5, 7] :  [1, 2, 3, 6]\n",
      "mf =  [1, 2, 3, 6]\n"
     ]
    }
   ],
   "source": [
    "num = 6\n",
    "tokens_remain = [1,2,4,5,7]\n",
    "mf = find_multiples_or_factors(num, tokens_remain)\n",
    "print('mf = ', mf)\n"
   ],
   "metadata": {
    "collapsed": false,
    "pycharm": {
     "name": "#%%\n"
    }
   }
  },
  {
   "cell_type": "code",
   "execution_count": 32,
   "outputs": [
    {
     "name": "stdout",
     "output_type": "stream",
     "text": [
      "2 's factors and multiples in [1, 4, 5, 7] :  [1, 2, 4, 6]\n",
      "mf =  [1, 2, 4, 6]\n"
     ]
    }
   ],
   "source": [
    "num = 2\n",
    "tokens_remain = [1,4,5,7]\n",
    "mf = find_multiples_or_factors(num, tokens_remain)\n",
    "print('mf = ', mf)"
   ],
   "metadata": {
    "collapsed": false,
    "pycharm": {
     "name": "#%%\n"
    }
   }
  },
  {
   "cell_type": "code",
   "execution_count": 33,
   "outputs": [
    {
     "name": "stdout",
     "output_type": "stream",
     "text": [
      "4 's factors and multiples in [1, 5, 7] :  [1, 2, 4]\n",
      "mf =  [1, 2, 4]\n"
     ]
    }
   ],
   "source": [
    "num = 4\n",
    "tokens_remain = [1,5,7]\n",
    "mf = find_multiples_or_factors(num, tokens_remain)\n",
    "print('mf = ', mf)"
   ],
   "metadata": {
    "collapsed": false,
    "pycharm": {
     "name": "#%%\n"
    }
   }
  },
  {
   "cell_type": "code",
   "execution_count": 34,
   "outputs": [
    {
     "name": "stdout",
     "output_type": "stream",
     "text": [
      "1 's factors and multiples in [5, 7] :  [1, 2, 3, 4, 5, 6, 7]\n",
      "mf =  [1, 2, 3, 4, 5, 6, 7]\n"
     ]
    }
   ],
   "source": [
    "num = 1\n",
    "tokens_remain = [5,7]\n",
    "mf = find_multiples_or_factors(num, tokens_remain)\n",
    "print('mf = ', mf)"
   ],
   "metadata": {
    "collapsed": false,
    "pycharm": {
     "name": "#%%\n"
    }
   }
  },
  {
   "cell_type": "code",
   "execution_count": 35,
   "outputs": [
    {
     "name": "stdout",
     "output_type": "stream",
     "text": [
      "7 's factors and multiples in [5] :  [1, 7]\n",
      "mf =  [1, 7]\n"
     ]
    }
   ],
   "source": [
    "num = 7\n",
    "tokens_remain = [5]\n",
    "mf = find_multiples_or_factors(num, tokens_remain)\n",
    "print('mf = ', mf)"
   ],
   "metadata": {
    "collapsed": false,
    "pycharm": {
     "name": "#%%\n"
    }
   }
  }
 ],
 "metadata": {
  "kernelspec": {
   "name": "lab_4",
   "language": "python",
   "display_name": "Lab_4"
  },
  "language_info": {
   "codemirror_mode": {
    "name": "ipython",
    "version": 2
   },
   "file_extension": ".py",
   "mimetype": "text/x-python",
   "name": "python",
   "nbconvert_exporter": "python",
   "pygments_lexer": "ipython2",
   "version": "2.7.6"
  }
 },
 "nbformat": 4,
 "nbformat_minor": 0
}