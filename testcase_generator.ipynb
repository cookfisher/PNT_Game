{
 "cells": [
  {
   "cell_type": "code",
   "execution_count": null,
   "outputs": [],
   "source": [
    "input1 = [2, 3, 4, 5, 6, 7]\n",
    "last_move1 = 1\n",
    "depth1 = 3\n",
    "\n",
    "input2 = [3, 5, 6, 7]\n",
    "last_move2 = 2\n",
    "depth2 = 2\n",
    "\n",
    "input3 = [2, 3, 4, 5, 6, 7]\n",
    "last_move3 = 1\n",
    "depth3 = 2\n",
    "\n",
    "input4 = [2, 4, 5, 6, 7]\n",
    "last_move4 = 3\n",
    "depth4 = 2\n",
    "\n",
    "input5 = [1, 2, 4, 5, 7]\n",
    "last_move5 = 6\n",
    "depth5 = 3\n",
    "\n",
    "input6 = [2, 4, 5, 7, 8, 9, 10]\n",
    "last_move6 = 6\n",
    "depth6 = 4\n",
    "\n",
    "input7 = [1, 2, 4, 5, 6, 7, 8, 9, 10]\n",
    "last_move7 = 3\n",
    "depth7 = 4\n",
    "\n",
    "input8 = [2, 4, 5, 6, 7, 8, 9, 10]\n",
    "last_move8 = 3\n",
    "depth8 = 4\n",
    "\n",
    "input9 = [1, 4, 5, 7, 8, 9, 10]\n",
    "last_move9 = 2\n",
    "depth9 = 4\n",
    "\n",
    "input10 = [1, 2, 3]\n",
    "last_move10 = 0\n",
    "depth10 = 0\n"
   ],
   "metadata": {
    "collapsed": false,
    "pycharm": {
     "name": "#%%\n"
    }
   }
  }
 ],
 "metadata": {
  "kernelspec": {
   "name": "lab_4",
   "language": "python",
   "display_name": "Lab_4"
  },
  "language_info": {
   "codemirror_mode": {
    "name": "ipython",
    "version": 2
   },
   "file_extension": ".py",
   "mimetype": "text/x-python",
   "name": "python",
   "nbconvert_exporter": "python",
   "pygments_lexer": "ipython2",
   "version": "2.7.6"
  }
 },
 "nbformat": 4,
 "nbformat_minor": 0
}